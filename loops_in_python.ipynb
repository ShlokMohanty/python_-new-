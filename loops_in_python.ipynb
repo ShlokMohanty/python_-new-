{
 "cells": [
  {
   "cell_type": "code",
   "execution_count": 1,
   "metadata": {},
   "outputs": [
    {
     "name": "stdout",
     "output_type": "stream",
     "text": [
      "banana\n",
      "pineapple\n",
      "grapes\n"
     ]
    }
   ],
   "source": [
    "fruits = ['banana','pineapple','grapes']\n",
    "for x in fruits:\n",
    "    print(x)"
   ]
  },
  {
   "cell_type": "code",
   "execution_count": 2,
   "metadata": {},
   "outputs": [
    {
     "name": "stdout",
     "output_type": "stream",
     "text": [
      "1\n",
      "8\n",
      "64\n",
      "216\n",
      "1331\n",
      "8000\n"
     ]
    }
   ],
   "source": [
    "numbers = [1, 2, 4, 6, 11, 20]\n",
    "for x in numbers:\n",
    "    sq = x * x * x\n",
    "    print(sq)"
   ]
  },
  {
   "cell_type": "code",
   "execution_count": 3,
   "metadata": {},
   "outputs": [
    {
     "name": "stdout",
     "output_type": "stream",
     "text": [
      "red hands\n",
      "red tempered\n",
      "red cheeks\n",
      "red head\n",
      "short hands\n",
      "short tempered\n",
      "short cheeks\n",
      "short head\n",
      "pink hands\n",
      "pink tempered\n",
      "pink cheeks\n",
      "pink head\n",
      "high hands\n",
      "high tempered\n",
      "high cheeks\n",
      "high head\n"
     ]
    }
   ],
   "source": [
    "adjectives = ['red','short','pink','high']\n",
    "nouns = ['hands','tempered','cheeks','head']\n",
    "for x in adjectives:\n",
    "    for y in nouns:\n",
    "        print(x,y)"
   ]
  },
  {
   "cell_type": "code",
   "execution_count": 4,
   "metadata": {},
   "outputs": [
    {
     "name": "stdout",
     "output_type": "stream",
     "text": [
      "0 , 10\n",
      "0 , 11\n",
      "0 , 12\n",
      "0 , 13\n",
      "1 , 10\n",
      "1 , 11\n",
      "1 , 12\n",
      "1 , 13\n",
      "2 , 10\n",
      "2 , 11\n",
      "2 , 12\n",
      "2 , 13\n",
      "3 , 10\n",
      "3 , 11\n",
      "3 , 12\n",
      "3 , 13\n",
      "4 , 10\n",
      "4 , 11\n",
      "4 , 12\n",
      "4 , 13\n"
     ]
    }
   ],
   "source": [
    "for num1 in range(5):\n",
    "    for num2 in range(10,14):\n",
    "        print(num1,',',num2)"
   ]
  },
  {
   "cell_type": "code",
   "execution_count": 5,
   "metadata": {},
   "outputs": [],
   "source": [
    "#while loop"
   ]
  },
  {
   "cell_type": "code",
   "execution_count": 6,
   "metadata": {},
   "outputs": [
    {
     "name": "stdout",
     "output_type": "stream",
     "text": [
      "Thank You!\n"
     ]
    }
   ],
   "source": [
    "count = 25\n",
    "while count<20 :\n",
    "    print(\"digit:\",count)\n",
    "    count = count + 1\n",
    "print(\"Thank You!\")"
   ]
  },
  {
   "cell_type": "code",
   "execution_count": 7,
   "metadata": {},
   "outputs": [
    {
     "ename": "SyntaxError",
     "evalue": "unexpected EOF while parsing (<ipython-input-7-5b3c4213d639>, line 5)",
     "output_type": "error",
     "traceback": [
      "\u001b[1;36m  File \u001b[1;32m\"<ipython-input-7-5b3c4213d639>\"\u001b[1;36m, line \u001b[1;32m5\u001b[0m\n\u001b[1;33m    if guess != random_number:\u001b[0m\n\u001b[1;37m                              ^\u001b[0m\n\u001b[1;31mSyntaxError\u001b[0m\u001b[1;31m:\u001b[0m unexpected EOF while parsing\n"
     ]
    }
   ],
   "source": [
    "import random\n",
    "n = 20\n",
    "random_number = int(20 * random.random())\n",
    "guess = 0\n",
    "if guess != random_number:"
   ]
  },
  {
   "cell_type": "code",
   "execution_count": 8,
   "metadata": {},
   "outputs": [
    {
     "ename": "SyntaxError",
     "evalue": "'break' outside loop (<ipython-input-8-3bc5c8023248>, line 14)",
     "output_type": "error",
     "traceback": [
      "\u001b[1;36m  File \u001b[1;32m\"<ipython-input-8-3bc5c8023248>\"\u001b[1;36m, line \u001b[1;32m14\u001b[0m\n\u001b[1;33m    break\u001b[0m\n\u001b[1;37m    ^\u001b[0m\n\u001b[1;31mSyntaxError\u001b[0m\u001b[1;31m:\u001b[0m 'break' outside loop\n"
     ]
    }
   ],
   "source": [
    "import random \n",
    "n = 20\n",
    "random_number = int(20 * random.random())\n",
    "guess = 0\n",
    "if guess != random_number :\n",
    "    guess = int(input(\"put new number: \"))\n",
    "    if guess>0 :\n",
    "        if guess>random_number :\n",
    "            print(\"number is too large\")\n",
    "        elif guess<random_number :\n",
    "            print(\"number is too small\")\n",
    "    else :\n",
    "        print(\"sorry! that you gave up!\")\n",
    "        break\n",
    "else :\n",
    "    print(\"Bravo! you won.\")"
   ]
  }
 ],
 "metadata": {
  "kernelspec": {
   "display_name": "Python 3",
   "language": "python",
   "name": "python3"
  },
  "language_info": {
   "codemirror_mode": {
    "name": "ipython",
    "version": 3
   },
   "file_extension": ".py",
   "mimetype": "text/x-python",
   "name": "python",
   "nbconvert_exporter": "python",
   "pygments_lexer": "ipython3",
   "version": "3.8.5"
  }
 },
 "nbformat": 4,
 "nbformat_minor": 4
}
